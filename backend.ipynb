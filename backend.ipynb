{
  "nbformat": 4,
  "nbformat_minor": 0,
  "metadata": {
    "colab": {
      "name": "backend.ipynb",
      "provenance": [],
      "collapsed_sections": []
    },
    "kernelspec": {
      "name": "python3",
      "display_name": "Python 3"
    },
    "language_info": {
      "name": "python"
    }
  },
  "cells": [
    {
      "cell_type": "code",
      "execution_count": null,
      "metadata": {
        "id": "h8P6q3vt-xsv"
      },
      "outputs": [],
      "source": [
        "# 1. install ngrok for python\n",
        "!pip install flask-ngrok"
      ]
    },
    {
      "cell_type": "code",
      "source": [
        "# 2. install ngrok on the virtual linux machine\n",
        "!curl -s https://ngrok-agent.s3.amazonaws.com/ngrok.asc | sudo tee /etc/apt/trusted.gpg.d/ngrok.asc >/dev/null && echo \"deb https://ngrok-agent.s3.amazonaws.com buster main\" | sudo tee /etc/apt/sources.list.d/ngrok.list && sudo apt update && sudo apt install ngrok   "
      ],
      "metadata": {
        "id": "WgsJ522Fs9vF"
      },
      "execution_count": null,
      "outputs": []
    },
    {
      "cell_type": "code",
      "source": [
        "# 3. authorize the ngrok token (otherwise the server won't run)\n",
        "!ngrok authtoken 24TsfHBAWx6SMTddGSxNK16wEnn_7iyMP8wj93apJgqh4LWcR"
      ],
      "metadata": {
        "id": "zhA0gaLYs4pJ"
      },
      "execution_count": null,
      "outputs": []
    },
    {
      "cell_type": "code",
      "source": [
        "# Writeable app - keep track of your writing projects \n",
        "# 1. login + register\n",
        "# 1.1. update user data\n",
        "# 2. create + update + delete a writing project (title, description, category, art, genre, current word count, completed)\n",
        "# 3. search a writing project by title\n",
        "# 4. filter writing projects by category, genre, hide/show completed projects  \n",
        "# 5. start a writing sprint + set target word count + ask for word at the end and update the total word count in the project \n",
        "# 6. display user statistics (most words written in a single sprint, project with the the most words written, average words per minute)"
      ],
      "metadata": {
        "id": "fleOVZ0r0Xo3"
      },
      "execution_count": null,
      "outputs": []
    },
    {
      "cell_type": "code",
      "source": [
        "from flask_ngrok import run_with_ngrok\n",
        "from flask import *\n",
        "import firebase_admin\n",
        "from firebase_admin import credentials, firestore\n",
        "\n",
        "if not firebase_admin._apps:\n",
        "    cred = credentials.Certificate('/content/drive/MyDrive/Colab/writeable-app-firebase-adminsdk-mcyed-78a5ee2f77.json')\n",
        "    default_app = firebase_admin.initialize_app(cred)\n",
        "else:\n",
        "    default_app = firebase_admin.get_app()\n",
        "\n",
        "# database = firestore.client()\n",
        "# database.collection(u'Users').add({\n",
        "#    u'Email': 'test@gmail.com',\n",
        "#    u'Password': 'test',\n",
        "#    u'Display_Name': 'Test User'\n",
        "# })\n",
        "\n",
        "\n",
        "app = Flask(__name__)\n",
        "\n",
        "run_with_ngrok(app)\n",
        "\n",
        "@app.route('/')\n",
        "def home():\n",
        "  return '<h1>Praying for death and McChicken</h1>'\n",
        "\n",
        "app.run()"
      ],
      "metadata": {
        "id": "4eNVLGrkL4qA"
      },
      "execution_count": null,
      "outputs": []
    }
  ]
}